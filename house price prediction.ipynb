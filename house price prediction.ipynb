{
  "metadata": {
    "kernelspec": {
      "name": "python",
      "display_name": "Python (Pyodide)",
      "language": "python"
    },
    "language_info": {
      "codemirror_mode": {
        "name": "python",
        "version": 3
      },
      "file_extension": ".py",
      "mimetype": "text/x-python",
      "name": "python",
      "nbconvert_exporter": "python",
      "pygments_lexer": "ipython3",
      "version": "3.8"
    }
  },
  "nbformat_minor": 5,
  "nbformat": 4,
  "cells": [
    {
      "cell_type": "code",
      "source": "import numpy as np\nimport pandas as pd\nimport matplotlib.pyplot as plt\nfrom sklearn.model_selection import train_test_split\nfrom sklearn.linear_model import LinearRegression\nfrom sklearn import metrics",
      "metadata": {
        "trusted": true
      },
      "execution_count": 1,
      "outputs": [],
      "id": "79079a68-b52f-4925-93d9-a24c8b279ad4"
    },
    {
      "cell_type": "code",
      "source": "house_price_dataframe=pd.read_csv(\"data.csv\")\nhouse_price_dataframe.head()",
      "metadata": {
        "trusted": true
      },
      "execution_count": 2,
      "outputs": [
        {
          "execution_count": 2,
          "output_type": "execute_result",
          "data": {
            "text/plain": "                  date      price  bedrooms  bathrooms  sqft_living  sqft_lot  \\\n0  2014-05-02 00:00:00   313000.0       3.0       1.50         1340      7912   \n1  2014-05-02 00:00:00  2384000.0       5.0       2.50         3650      9050   \n2  2014-05-02 00:00:00   342000.0       3.0       2.00         1930     11947   \n3  2014-05-02 00:00:00   420000.0       3.0       2.25         2000      8030   \n4  2014-05-02 00:00:00   550000.0       4.0       2.50         1940     10500   \n\n   floors  waterfront  view  condition  sqft_above  sqft_basement  yr_built  \\\n0     1.5           0     0          3        1340              0      1955   \n1     2.0           0     4          5        3370            280      1921   \n2     1.0           0     0          4        1930              0      1966   \n3     1.0           0     0          4        1000           1000      1963   \n4     1.0           0     0          4        1140            800      1976   \n\n   yr_renovated                    street       city  statezip country  \n0          2005      18810 Densmore Ave N  Shoreline  WA 98133     USA  \n1             0           709 W Blaine St    Seattle  WA 98119     USA  \n2             0  26206-26214 143rd Ave SE       Kent  WA 98042     USA  \n3             0           857 170th Pl NE   Bellevue  WA 98008     USA  \n4          1992         9105 170th Ave NE    Redmond  WA 98052     USA  ",
            "text/html": "<div>\n<style scoped>\n    .dataframe tbody tr th:only-of-type {\n        vertical-align: middle;\n    }\n\n    .dataframe tbody tr th {\n        vertical-align: top;\n    }\n\n    .dataframe thead th {\n        text-align: right;\n    }\n</style>\n<table border=\"1\" class=\"dataframe\">\n  <thead>\n    <tr style=\"text-align: right;\">\n      <th></th>\n      <th>date</th>\n      <th>price</th>\n      <th>bedrooms</th>\n      <th>bathrooms</th>\n      <th>sqft_living</th>\n      <th>sqft_lot</th>\n      <th>floors</th>\n      <th>waterfront</th>\n      <th>view</th>\n      <th>condition</th>\n      <th>sqft_above</th>\n      <th>sqft_basement</th>\n      <th>yr_built</th>\n      <th>yr_renovated</th>\n      <th>street</th>\n      <th>city</th>\n      <th>statezip</th>\n      <th>country</th>\n    </tr>\n  </thead>\n  <tbody>\n    <tr>\n      <th>0</th>\n      <td>2014-05-02 00:00:00</td>\n      <td>313000.0</td>\n      <td>3.0</td>\n      <td>1.50</td>\n      <td>1340</td>\n      <td>7912</td>\n      <td>1.5</td>\n      <td>0</td>\n      <td>0</td>\n      <td>3</td>\n      <td>1340</td>\n      <td>0</td>\n      <td>1955</td>\n      <td>2005</td>\n      <td>18810 Densmore Ave N</td>\n      <td>Shoreline</td>\n      <td>WA 98133</td>\n      <td>USA</td>\n    </tr>\n    <tr>\n      <th>1</th>\n      <td>2014-05-02 00:00:00</td>\n      <td>2384000.0</td>\n      <td>5.0</td>\n      <td>2.50</td>\n      <td>3650</td>\n      <td>9050</td>\n      <td>2.0</td>\n      <td>0</td>\n      <td>4</td>\n      <td>5</td>\n      <td>3370</td>\n      <td>280</td>\n      <td>1921</td>\n      <td>0</td>\n      <td>709 W Blaine St</td>\n      <td>Seattle</td>\n      <td>WA 98119</td>\n      <td>USA</td>\n    </tr>\n    <tr>\n      <th>2</th>\n      <td>2014-05-02 00:00:00</td>\n      <td>342000.0</td>\n      <td>3.0</td>\n      <td>2.00</td>\n      <td>1930</td>\n      <td>11947</td>\n      <td>1.0</td>\n      <td>0</td>\n      <td>0</td>\n      <td>4</td>\n      <td>1930</td>\n      <td>0</td>\n      <td>1966</td>\n      <td>0</td>\n      <td>26206-26214 143rd Ave SE</td>\n      <td>Kent</td>\n      <td>WA 98042</td>\n      <td>USA</td>\n    </tr>\n    <tr>\n      <th>3</th>\n      <td>2014-05-02 00:00:00</td>\n      <td>420000.0</td>\n      <td>3.0</td>\n      <td>2.25</td>\n      <td>2000</td>\n      <td>8030</td>\n      <td>1.0</td>\n      <td>0</td>\n      <td>0</td>\n      <td>4</td>\n      <td>1000</td>\n      <td>1000</td>\n      <td>1963</td>\n      <td>0</td>\n      <td>857 170th Pl NE</td>\n      <td>Bellevue</td>\n      <td>WA 98008</td>\n      <td>USA</td>\n    </tr>\n    <tr>\n      <th>4</th>\n      <td>2014-05-02 00:00:00</td>\n      <td>550000.0</td>\n      <td>4.0</td>\n      <td>2.50</td>\n      <td>1940</td>\n      <td>10500</td>\n      <td>1.0</td>\n      <td>0</td>\n      <td>0</td>\n      <td>4</td>\n      <td>1140</td>\n      <td>800</td>\n      <td>1976</td>\n      <td>1992</td>\n      <td>9105 170th Ave NE</td>\n      <td>Redmond</td>\n      <td>WA 98052</td>\n      <td>USA</td>\n    </tr>\n  </tbody>\n</table>\n</div>"
          },
          "metadata": {}
        }
      ],
      "id": "8dd0984d-c1d6-4c8b-9ab8-788919862650"
    },
    {
      "cell_type": "code",
      "source": "house_price_dataframe.isnull().sum()",
      "metadata": {
        "trusted": true
      },
      "execution_count": 3,
      "outputs": [
        {
          "execution_count": 3,
          "output_type": "execute_result",
          "data": {
            "text/plain": "date             0\nprice            0\nbedrooms         0\nbathrooms        0\nsqft_living      0\nsqft_lot         0\nfloors           0\nwaterfront       0\nview             0\ncondition        0\nsqft_above       0\nsqft_basement    0\nyr_built         0\nyr_renovated     0\nstreet           0\ncity             0\nstatezip         0\ncountry          0\ndtype: int64"
          },
          "metadata": {}
        }
      ],
      "id": "7b1cb283-b8a6-46ae-81cb-25cc2ea8065f"
    },
    {
      "cell_type": "code",
      "source": "x=house_price_dataframe.drop(['price','street','statezip','waterfront','city','country','date'],axis=1)\ny=house_price_dataframe['price']",
      "metadata": {
        "trusted": true
      },
      "execution_count": 5,
      "outputs": [],
      "id": "39b1009a-e003-4c97-947a-ae70078e88d4"
    },
    {
      "cell_type": "code",
      "source": "y",
      "metadata": {
        "trusted": true
      },
      "execution_count": 6,
      "outputs": [
        {
          "execution_count": 6,
          "output_type": "execute_result",
          "data": {
            "text/plain": "0       3.130000e+05\n1       2.384000e+06\n2       3.420000e+05\n3       4.200000e+05\n4       5.500000e+05\n            ...     \n4595    3.081667e+05\n4596    5.343333e+05\n4597    4.169042e+05\n4598    2.034000e+05\n4599    2.206000e+05\nName: price, Length: 4600, dtype: float64"
          },
          "metadata": {}
        }
      ],
      "id": "2d5ad875-702b-4916-8df5-b2621eadf104"
    },
    {
      "cell_type": "code",
      "source": "X_train,X_test,Y_train,Y_test=train_test_split(x,y,test_size=0.2,random_state=2)",
      "metadata": {
        "trusted": true
      },
      "execution_count": 7,
      "outputs": [],
      "id": "fe686640-494f-4ae2-afd9-38dbf0b1e131"
    },
    {
      "cell_type": "code",
      "source": "linear_model=LinearRegression()",
      "metadata": {
        "trusted": true
      },
      "execution_count": 8,
      "outputs": [],
      "id": "38e3dcc4-ba4d-4945-8f3e-2922a1979aa5"
    },
    {
      "cell_type": "code",
      "source": "linear_model.fit(X_train,Y_train)",
      "metadata": {
        "trusted": true
      },
      "execution_count": 9,
      "outputs": [
        {
          "execution_count": 9,
          "output_type": "execute_result",
          "data": {
            "text/plain": "LinearRegression()",
            "text/html": "<style>#sk-container-id-1 {color: black;background-color: white;}#sk-container-id-1 pre{padding: 0;}#sk-container-id-1 div.sk-toggleable {background-color: white;}#sk-container-id-1 label.sk-toggleable__label {cursor: pointer;display: block;width: 100%;margin-bottom: 0;padding: 0.3em;box-sizing: border-box;text-align: center;}#sk-container-id-1 label.sk-toggleable__label-arrow:before {content: \"▸\";float: left;margin-right: 0.25em;color: #696969;}#sk-container-id-1 label.sk-toggleable__label-arrow:hover:before {color: black;}#sk-container-id-1 div.sk-estimator:hover label.sk-toggleable__label-arrow:before {color: black;}#sk-container-id-1 div.sk-toggleable__content {max-height: 0;max-width: 0;overflow: hidden;text-align: left;background-color: #f0f8ff;}#sk-container-id-1 div.sk-toggleable__content pre {margin: 0.2em;color: black;border-radius: 0.25em;background-color: #f0f8ff;}#sk-container-id-1 input.sk-toggleable__control:checked~div.sk-toggleable__content {max-height: 200px;max-width: 100%;overflow: auto;}#sk-container-id-1 input.sk-toggleable__control:checked~label.sk-toggleable__label-arrow:before {content: \"▾\";}#sk-container-id-1 div.sk-estimator input.sk-toggleable__control:checked~label.sk-toggleable__label {background-color: #d4ebff;}#sk-container-id-1 div.sk-label input.sk-toggleable__control:checked~label.sk-toggleable__label {background-color: #d4ebff;}#sk-container-id-1 input.sk-hidden--visually {border: 0;clip: rect(1px 1px 1px 1px);clip: rect(1px, 1px, 1px, 1px);height: 1px;margin: -1px;overflow: hidden;padding: 0;position: absolute;width: 1px;}#sk-container-id-1 div.sk-estimator {font-family: monospace;background-color: #f0f8ff;border: 1px dotted black;border-radius: 0.25em;box-sizing: border-box;margin-bottom: 0.5em;}#sk-container-id-1 div.sk-estimator:hover {background-color: #d4ebff;}#sk-container-id-1 div.sk-parallel-item::after {content: \"\";width: 100%;border-bottom: 1px solid gray;flex-grow: 1;}#sk-container-id-1 div.sk-label:hover label.sk-toggleable__label {background-color: #d4ebff;}#sk-container-id-1 div.sk-serial::before {content: \"\";position: absolute;border-left: 1px solid gray;box-sizing: border-box;top: 0;bottom: 0;left: 50%;z-index: 0;}#sk-container-id-1 div.sk-serial {display: flex;flex-direction: column;align-items: center;background-color: white;padding-right: 0.2em;padding-left: 0.2em;position: relative;}#sk-container-id-1 div.sk-item {position: relative;z-index: 1;}#sk-container-id-1 div.sk-parallel {display: flex;align-items: stretch;justify-content: center;background-color: white;position: relative;}#sk-container-id-1 div.sk-item::before, #sk-container-id-1 div.sk-parallel-item::before {content: \"\";position: absolute;border-left: 1px solid gray;box-sizing: border-box;top: 0;bottom: 0;left: 50%;z-index: -1;}#sk-container-id-1 div.sk-parallel-item {display: flex;flex-direction: column;z-index: 1;position: relative;background-color: white;}#sk-container-id-1 div.sk-parallel-item:first-child::after {align-self: flex-end;width: 50%;}#sk-container-id-1 div.sk-parallel-item:last-child::after {align-self: flex-start;width: 50%;}#sk-container-id-1 div.sk-parallel-item:only-child::after {width: 0;}#sk-container-id-1 div.sk-dashed-wrapped {border: 1px dashed gray;margin: 0 0.4em 0.5em 0.4em;box-sizing: border-box;padding-bottom: 0.4em;background-color: white;}#sk-container-id-1 div.sk-label label {font-family: monospace;font-weight: bold;display: inline-block;line-height: 1.2em;}#sk-container-id-1 div.sk-label-container {text-align: center;}#sk-container-id-1 div.sk-container {/* jupyter's `normalize.less` sets `[hidden] { display: none; }` but bootstrap.min.css set `[hidden] { display: none !important; }` so we also need the `!important` here to be able to override the default hidden behavior on the sphinx rendered scikit-learn.org. See: https://github.com/scikit-learn/scikit-learn/issues/21755 */display: inline-block !important;position: relative;}#sk-container-id-1 div.sk-text-repr-fallback {display: none;}</style><div id=\"sk-container-id-1\" class=\"sk-top-container\"><div class=\"sk-text-repr-fallback\"><pre>LinearRegression()</pre><b>In a Jupyter environment, please rerun this cell to show the HTML representation or trust the notebook. <br />On GitHub, the HTML representation is unable to render, please try loading this page with nbviewer.org.</b></div><div class=\"sk-container\" hidden><div class=\"sk-item\"><div class=\"sk-estimator sk-toggleable\"><input class=\"sk-toggleable__control sk-hidden--visually\" id=\"sk-estimator-id-1\" type=\"checkbox\" checked><label for=\"sk-estimator-id-1\" class=\"sk-toggleable__label sk-toggleable__label-arrow\">LinearRegression</label><div class=\"sk-toggleable__content\"><pre>LinearRegression()</pre></div></div></div></div></div>"
          },
          "metadata": {}
        }
      ],
      "id": "d8db9fe2-ae7a-4812-91cf-5b0cba113141"
    },
    {
      "cell_type": "code",
      "source": "training_data_prediction =linear_model.predict(X_train)",
      "metadata": {
        "trusted": true
      },
      "execution_count": 10,
      "outputs": [],
      "id": "63a2b92d-1bfd-4237-8bae-bcfb8ad7a38f"
    },
    {
      "cell_type": "code",
      "source": "score_1=metrics.r2_score(Y_train,training_data_prediction)",
      "metadata": {
        "trusted": true
      },
      "execution_count": 11,
      "outputs": [],
      "id": "0e1ec538-ec4e-415d-9fc8-f0c30cb42174"
    },
    {
      "cell_type": "code",
      "source": "print('R square error: ',score_1)",
      "metadata": {
        "trusted": true
      },
      "execution_count": 12,
      "outputs": [
        {
          "name": "stdout",
          "text": "R square error:  0.4082302796353172\n",
          "output_type": "stream"
        }
      ],
      "id": "7ffc6636-ea25-43c4-99fa-7579fe2593e3"
    },
    {
      "cell_type": "code",
      "source": "plt.scatter(Y_train,training_data_prediction)\nplt.xlabel('actual prices')\nplt.ylabel('predicted prices')\nplt.title('actual prices vs predicted prices')\nplt.show()",
      "metadata": {
        "trusted": true
      },
      "execution_count": 13,
      "outputs": [
        {
          "output_type": "display_data",
          "data": {
            "text/plain": "<Figure size 640x480 with 1 Axes>",
            "image/png": "[encoded data removed]"
          },
          "metadata": {}
        }
      ],
      "id": "5d74aff3-b7fa-4045-877b-568f860397df"
    },
    {
      "cell_type": "code",
      "source": "Y_train",
      "metadata": {
        "trusted": true
      },
      "execution_count": 14,
      "outputs": [
        {
          "execution_count": 14,
          "output_type": "execute_result",
          "data": {
            "text/plain": "2274     522000.0\n2735     284950.0\n4        550000.0\n133     1425000.0\n1903     250500.0\n          ...    \n3335     305000.0\n1099     535000.0\n2514     397500.0\n3606     288790.0\n2575     632500.0\nName: price, Length: 3680, dtype: float64"
          },
          "metadata": {}
        }
      ],
      "id": "1d951cc6-a6fd-48a6-92ba-1f798133e8d1"
    },
    {
      "cell_type": "code",
      "source": "training_data_prediction",
      "metadata": {
        "trusted": true
      },
      "execution_count": 15,
      "outputs": [
        {
          "execution_count": 15,
          "output_type": "execute_result",
          "data": {
            "text/plain": "array([379612.73955286, 221177.01920496, 423965.73264235, ...,\n       343267.81570328, 227678.1347159 , 524197.87447659])"
          },
          "metadata": {}
        }
      ],
      "id": "0d912bc8-5862-4e17-8c75-f76d0ca3e725"
    },
    {
      "cell_type": "code",
      "source": "df=pd.DataFrame({\n    'Actual Price':Y_train,\n    'Predicted Price':training_data_prediction\n})",
      "metadata": {
        "trusted": true
      },
      "execution_count": 16,
      "outputs": [],
      "id": "dd2d7afd-3b12-40fa-bed3-b0d9f22b4921"
    },
    {
      "cell_type": "code",
      "source": "df.head()",
      "metadata": {
        "trusted": true
      },
      "execution_count": 17,
      "outputs": [
        {
          "execution_count": 17,
          "output_type": "execute_result",
          "data": {
            "text/plain": "      Actual Price  Predicted Price\n2274      522000.0    379612.739553\n2735      284950.0    221177.019205\n4         550000.0    423965.732642\n133      1425000.0    613496.923062\n1903      250500.0    429676.256352",
            "text/html": "<div>\n<style scoped>\n    .dataframe tbody tr th:only-of-type {\n        vertical-align: middle;\n    }\n\n    .dataframe tbody tr th {\n        vertical-align: top;\n    }\n\n    .dataframe thead th {\n        text-align: right;\n    }\n</style>\n<table border=\"1\" class=\"dataframe\">\n  <thead>\n    <tr style=\"text-align: right;\">\n      <th></th>\n      <th>Actual Price</th>\n      <th>Predicted Price</th>\n    </tr>\n  </thead>\n  <tbody>\n    <tr>\n      <th>2274</th>\n      <td>522000.0</td>\n      <td>379612.739553</td>\n    </tr>\n    <tr>\n      <th>2735</th>\n      <td>284950.0</td>\n      <td>221177.019205</td>\n    </tr>\n    <tr>\n      <th>4</th>\n      <td>550000.0</td>\n      <td>423965.732642</td>\n    </tr>\n    <tr>\n      <th>133</th>\n      <td>1425000.0</td>\n      <td>613496.923062</td>\n    </tr>\n    <tr>\n      <th>1903</th>\n      <td>250500.0</td>\n      <td>429676.256352</td>\n    </tr>\n  </tbody>\n</table>\n</div>"
          },
          "metadata": {}
        }
      ],
      "id": "1aac3dab-1391-460b-8013-643e734fcdf5"
    },
    {
      "cell_type": "code",
      "source": "",
      "metadata": {},
      "execution_count": null,
      "outputs": [],
      "id": "0d46af8e-3600-424c-b215-75f39e4009a8"
    },
    {
      "cell_type": "code",
      "source": "",
      "metadata": {},
      "execution_count": null,
      "outputs": [],
      "id": "d2fa69eb-ed68-47a0-88f5-4ed75db052b7"
    }
  ]
}